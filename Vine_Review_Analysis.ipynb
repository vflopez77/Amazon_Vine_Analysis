{
  "nbformat": 4,
  "nbformat_minor": 0,
  "metadata": {
    "colab": {
      "name": "Vine_Review_Analysis.ipynb",
      "provenance": []
    },
    "kernelspec": {
      "name": "python3",
      "display_name": "Python 3"
    }
  },
  "cells": [
    {
      "cell_type": "code",
      "metadata": {
        "id": "V58rxea0HqSa",
        "outputId": "9934d75d-500d-4a54-9e08-3affdea8251e",
        "colab": {
          "base_uri": "https://localhost:8080/"
        }
      },
      "source": [
        "import os\n",
        "# Find the latest version of spark 2.0  from http://www-us.apache.org/dist/spark/ and enter as the spark version\n",
        "# For example:\n",
        "# spark_version = 'spark-3.0.0'\n",
        "spark_version = 'spark-3.0.1'\n",
        "os.environ['SPARK_VERSION']=spark_version\n",
        "\n",
        "# Install Spark and Java\n",
        "!apt-get update\n",
        "!apt-get install openjdk-11-jdk-headless -qq > /dev/null\n",
        "!wget -q http://www-us.apache.org/dist/spark/$SPARK_VERSION/$SPARK_VERSION-bin-hadoop2.7.tgz\n",
        "!tar xf $SPARK_VERSION-bin-hadoop2.7.tgz\n",
        "!pip install -q findspark\n",
        "\n",
        "# Set Environment Variables\n",
        "import os\n",
        "os.environ[\"JAVA_HOME\"] = \"/usr/lib/jvm/java-11-openjdk-amd64\"\n",
        "os.environ[\"SPARK_HOME\"] = f\"/content/{spark_version}-bin-hadoop2.7\"\n",
        "\n",
        "# Start a SparkSession\n",
        "import findspark\n",
        "findspark.init()"
      ],
      "execution_count": 1,
      "outputs": [
        {
          "output_type": "stream",
          "text": [
            "Get:1 https://cloud.r-project.org/bin/linux/ubuntu bionic-cran40/ InRelease [3,626 B]\n",
            "Ign:2 https://developer.download.nvidia.com/compute/cuda/repos/ubuntu1804/x86_64  InRelease\n",
            "Ign:3 https://developer.download.nvidia.com/compute/machine-learning/repos/ubuntu1804/x86_64  InRelease\n",
            "Get:4 https://developer.download.nvidia.com/compute/cuda/repos/ubuntu1804/x86_64  Release [697 B]\n",
            "Get:5 https://developer.download.nvidia.com/compute/machine-learning/repos/ubuntu1804/x86_64  Release [564 B]\n",
            "Get:6 http://ppa.launchpad.net/c2d4u.team/c2d4u4.0+/ubuntu bionic InRelease [15.9 kB]\n",
            "Get:7 https://developer.download.nvidia.com/compute/cuda/repos/ubuntu1804/x86_64  Release.gpg [836 B]\n",
            "Hit:8 http://archive.ubuntu.com/ubuntu bionic InRelease\n",
            "Get:9 http://security.ubuntu.com/ubuntu bionic-security InRelease [88.7 kB]\n",
            "Get:10 https://developer.download.nvidia.com/compute/machine-learning/repos/ubuntu1804/x86_64  Release.gpg [833 B]\n",
            "Get:11 http://archive.ubuntu.com/ubuntu bionic-updates InRelease [88.7 kB]\n",
            "Ign:12 https://developer.download.nvidia.com/compute/cuda/repos/ubuntu1804/x86_64  Packages\n",
            "Get:12 https://developer.download.nvidia.com/compute/cuda/repos/ubuntu1804/x86_64  Packages [407 kB]\n",
            "Get:13 https://developer.download.nvidia.com/compute/machine-learning/repos/ubuntu1804/x86_64  Packages [58.5 kB]\n",
            "Get:14 http://ppa.launchpad.net/graphics-drivers/ppa/ubuntu bionic InRelease [21.3 kB]\n",
            "Get:15 http://archive.ubuntu.com/ubuntu bionic-backports InRelease [74.6 kB]\n",
            "Get:16 http://security.ubuntu.com/ubuntu bionic-security/restricted amd64 Packages [222 kB]\n",
            "Get:17 http://ppa.launchpad.net/c2d4u.team/c2d4u4.0+/ubuntu bionic/main Sources [1,688 kB]\n",
            "Get:18 http://archive.ubuntu.com/ubuntu bionic-updates/universe amd64 Packages [2,129 kB]\n",
            "Get:19 http://security.ubuntu.com/ubuntu bionic-security/main amd64 Packages [1,781 kB]\n",
            "Get:20 http://security.ubuntu.com/ubuntu bionic-security/multiverse amd64 Packages [15.8 kB]\n",
            "Get:21 http://security.ubuntu.com/ubuntu bionic-security/universe amd64 Packages [1,365 kB]\n",
            "Get:22 http://archive.ubuntu.com/ubuntu bionic-updates/multiverse amd64 Packages [46.3 kB]\n",
            "Get:23 http://archive.ubuntu.com/ubuntu bionic-updates/restricted amd64 Packages [247 kB]\n",
            "Get:24 http://archive.ubuntu.com/ubuntu bionic-updates/main amd64 Packages [2,198 kB]\n",
            "Get:25 http://ppa.launchpad.net/c2d4u.team/c2d4u4.0+/ubuntu bionic/main amd64 Packages [864 kB]\n",
            "Get:26 http://ppa.launchpad.net/graphics-drivers/ppa/ubuntu bionic/main amd64 Packages [46.6 kB]\n",
            "Fetched 11.4 MB in 6s (1,787 kB/s)\n",
            "Reading package lists... Done\n"
          ],
          "name": "stdout"
        }
      ]
    },
    {
      "cell_type": "code",
      "metadata": {
        "id": "_xKwTpATHqSe",
        "outputId": "9e492942-adb7-45ba-b561-c80399d009c8",
        "colab": {
          "base_uri": "https://localhost:8080/"
        }
      },
      "source": [
        "# Download the Postgres driver that will allow Spark to interact with Postgres.\n",
        "!wget https://jdbc.postgresql.org/download/postgresql-42.2.16.jar"
      ],
      "execution_count": 2,
      "outputs": [
        {
          "output_type": "stream",
          "text": [
            "--2020-11-15 01:16:21--  https://jdbc.postgresql.org/download/postgresql-42.2.16.jar\n",
            "Resolving jdbc.postgresql.org (jdbc.postgresql.org)... 72.32.157.228, 2001:4800:3e1:1::228\n",
            "Connecting to jdbc.postgresql.org (jdbc.postgresql.org)|72.32.157.228|:443... connected.\n",
            "HTTP request sent, awaiting response... 200 OK\n",
            "Length: 1002883 (979K) [application/java-archive]\n",
            "Saving to: ‘postgresql-42.2.16.jar’\n",
            "\n",
            "postgresql-42.2.16. 100%[===================>] 979.38K  1.01MB/s    in 0.9s    \n",
            "\n",
            "2020-11-15 01:16:23 (1.01 MB/s) - ‘postgresql-42.2.16.jar’ saved [1002883/1002883]\n",
            "\n"
          ],
          "name": "stdout"
        }
      ]
    },
    {
      "cell_type": "code",
      "metadata": {
        "id": "MMqDAjVS0KN9"
      },
      "source": [
        "# Start Spark Session\n",
        "from pyspark.sql import SparkSession\n",
        "spark = SparkSession.builder.appName(\"BigData-Challenge\").config(\"spark.driver.extraClassPath\",\"/content/postgresql-42.2.16.jar\").getOrCreate()"
      ],
      "execution_count": 3,
      "outputs": []
    },
    {
      "cell_type": "code",
      "metadata": {
        "id": "CtCmBhQJY-9Z",
        "outputId": "fa088796-3542-463f-e943-303987dde0ee",
        "colab": {
          "base_uri": "https://localhost:8080/"
        }
      },
      "source": [
        "# Import Amazon data to df DataFrame\n",
        "from pyspark import SparkFiles\n",
        "url = \"\"\n",
        "spark.sparkContext.addFile(\"https://s3.amazonaws.com/amazon-reviews-pds/tsv/amazon_reviews_us_Mobile_Electronics_v1_00.tsv.gz\")\n",
        "df = spark.read.option(\"encoding\", \"UTF-8\").csv(SparkFiles.get(\"amazon_reviews_us_Mobile_Electronics_v1_00.tsv.gz\"), sep=\"\\t\", header=True, inferSchema=True)\n",
        "df.show()"
      ],
      "execution_count": 4,
      "outputs": [
        {
          "output_type": "stream",
          "text": [
            "+-----------+-----------+--------------+----------+--------------+--------------------+------------------+-----------+-------------+-----------+----+-----------------+--------------------+--------------------+-----------+\n",
            "|marketplace|customer_id|     review_id|product_id|product_parent|       product_title|  product_category|star_rating|helpful_votes|total_votes|vine|verified_purchase|     review_headline|         review_body|review_date|\n",
            "+-----------+-----------+--------------+----------+--------------+--------------------+------------------+-----------+-------------+-----------+----+-----------------+--------------------+--------------------+-----------+\n",
            "|         US|   20422322| R8MEA6IGAHO0B|B00MC4CED8|     217304173|BlackVue DR600GW-PMP|Mobile_Electronics|          5|            0|          0|   N|                Y|         Very Happy!|As advertised. Ev...| 2015-08-31|\n",
            "|         US|   40835037|R31LOQ8JGLPRLK|B00OQMFG1Q|     137313254|GENSSI GSM / GPS ...|Mobile_Electronics|          5|            0|          1|   N|                Y|           five star|          it's great| 2015-08-31|\n",
            "|         US|   51469641|R2Y0MM9YE6OP3P|B00QERR5CY|      82850235|iXCC Multi pack L...|Mobile_Electronics|          5|            0|          0|   N|                Y|        great cables|These work great ...| 2015-08-31|\n",
            "|         US|    4332923| RRB9C05HDOD4O|B00QUFTPV4|     221169481|abcGoodefg® FBI C...|Mobile_Electronics|          4|            0|          0|   N|                Y|Work very well bu...|Work very well bu...| 2015-08-31|\n",
            "|         US|   44855305|R26I2RI1GFV8QG|B0067XVNTG|     563475445|Generic Car Dashb...|Mobile_Electronics|          2|            0|          0|   N|                Y|Cameras has batte...|Be careful with t...| 2015-08-31|\n",
            "|         US|    7846966| RY8DDL22YG4R5|B00KA6CCVY|     713636156|Aweek® Air Acoust...|Mobile_Electronics|          3|            0|          1|   N|                Y|It appears to be ...|It appears to be ...| 2015-08-31|\n",
            "|         US|   21299354|R2AT2426ZHFUHH|B00MJCDPM2|     754171872|Sentey LS-4460 B-...|Mobile_Electronics|          3|            0|          1|   N|                Y|Didn't love the f...|First one arrived...| 2015-08-31|\n",
            "|         US|   28902968|R3RRXU2R23NMQ9|B00ET5AWBY|     508373185|iPad Car Headrest...|Mobile_Electronics|          5|            0|          0|   N|                Y|          Five Stars|Worked great for ...| 2015-08-31|\n",
            "|         US|    2074438|R250PR8VJUZ62F|B00Z9K379C|     759387370|ANWING Waterproof...|Mobile_Electronics|          4|            0|          2|   N|                Y|          Four Stars|this is a very go...| 2015-08-31|\n",
            "|         US|   48701722| RBEMQ29WJBHYG|B00YO3UYXW|     913911909|Jensen MCR-100 Ca...|Mobile_Electronics|          5|          164|        168|   N|                Y|  I LOVE my recorder|I LOVE my recorde...| 2015-08-31|\n",
            "|         US|    2990247|R19VVIUT4BZCMT|B011W26BU2|     938399424|Bluetooth Speaker...|Mobile_Electronics|          5|            2|          2|   N|                Y|          Five Stars|Great sound great...| 2015-08-31|\n",
            "|         US|   52946117|R1DT8JJUQHUKUL|B00H8PI78C|     661515294|15Pcs DC 5V 85dB ...|Mobile_Electronics|          3|            0|          1|   N|                Y|More of a beeper ...|If what you want ...| 2015-08-31|\n",
            "|         US|   49359994| RLIL6S9OGM3YA|B00M49C6MK|      91176851|      Sentey Ls 4162|Mobile_Electronics|          5|            0|          0|   N|                Y|          Five Stars|             Love it| 2015-08-31|\n",
            "|         US|    4158732|R34EZZ68VYPHO0|B011Q291PK|     891142775|IcePACK 8 Can Ins...|Mobile_Electronics|          1|            1|          1|   N|                Y|            One Star|               Sucks| 2015-08-31|\n",
            "|         US|   18944032|R3TZNSOXS13SIG|B00W6OLUGQ|     577462547|DTK® AMI MDI MMI ...|Mobile_Electronics|          2|            1|          3|   N|                Y|           Two Stars|u need to plug in...| 2015-08-31|\n",
            "|         US|     279606|R12UBZT87UX3AP|B008MY1F8W|     680240984|INPA K+CAN K+DCAN...|Mobile_Electronics|          5|            2|          2|   N|                Y|          Five Stars|Worked with MHD F...| 2015-08-31|\n",
            "|         US|   10947966| R5KCRE927NYMU|B00KW3XNUE|     219920841|Magicfly Wireless...|Mobile_Electronics|          2|            0|          0|   N|                N|Battery Cover Poo...|Just arrived,  re...| 2015-08-31|\n",
            "|         US|   18387442| RT12RQFU0V2AX|B009NGR0AK|     254898339|Humminbird XNT 9 ...|Mobile_Electronics|          5|            1|          1|   N|                Y|        Works great.|I bought this uni...| 2015-08-31|\n",
            "|         US|   48950322|R2K0YQPV5W2SJ1|B011W26BU2|     938399424|Bluetooth Speaker...|Mobile_Electronics|          4|            2|          2|   N|                Y|A Lot of Sound In...|I am giving the s...| 2015-08-31|\n",
            "|         US|   48148197|R104MY31OKNGXH|B00PAP68WO|     366592530|Foxnovo 3.7V 380m...|Mobile_Electronics|          5|            0|          0|   N|                Y|          Five Stars|Met my applicatio...| 2015-08-31|\n",
            "+-----------+-----------+--------------+----------+--------------+--------------------+------------------+-----------+-------------+-----------+----+-----------------+--------------------+--------------------+-----------+\n",
            "only showing top 20 rows\n",
            "\n"
          ],
          "name": "stdout"
        }
      ]
    },
    {
      "cell_type": "code",
      "metadata": {
        "id": "lzMmkdKmY--D",
        "outputId": "01c79d48-500e-44fc-dd03-f2f246a05cc2",
        "colab": {
          "base_uri": "https://localhost:8080/"
        }
      },
      "source": [
        "# Create the vine_table. DataFrame\n",
        "vine_df = df.select(['review_id', 'star_rating', 'helpful_votes', 'total_votes', 'vine', 'verified_purchase'])\n",
        "vine_df.show()"
      ],
      "execution_count": 6,
      "outputs": [
        {
          "output_type": "stream",
          "text": [
            "+--------------+-----------+-------------+-----------+----+-----------------+\n",
            "|     review_id|star_rating|helpful_votes|total_votes|vine|verified_purchase|\n",
            "+--------------+-----------+-------------+-----------+----+-----------------+\n",
            "| R8MEA6IGAHO0B|          5|            0|          0|   N|                Y|\n",
            "|R31LOQ8JGLPRLK|          5|            0|          1|   N|                Y|\n",
            "|R2Y0MM9YE6OP3P|          5|            0|          0|   N|                Y|\n",
            "| RRB9C05HDOD4O|          4|            0|          0|   N|                Y|\n",
            "|R26I2RI1GFV8QG|          2|            0|          0|   N|                Y|\n",
            "| RY8DDL22YG4R5|          3|            0|          1|   N|                Y|\n",
            "|R2AT2426ZHFUHH|          3|            0|          1|   N|                Y|\n",
            "|R3RRXU2R23NMQ9|          5|            0|          0|   N|                Y|\n",
            "|R250PR8VJUZ62F|          4|            0|          2|   N|                Y|\n",
            "| RBEMQ29WJBHYG|          5|          164|        168|   N|                Y|\n",
            "|R19VVIUT4BZCMT|          5|            2|          2|   N|                Y|\n",
            "|R1DT8JJUQHUKUL|          3|            0|          1|   N|                Y|\n",
            "| RLIL6S9OGM3YA|          5|            0|          0|   N|                Y|\n",
            "|R34EZZ68VYPHO0|          1|            1|          1|   N|                Y|\n",
            "|R3TZNSOXS13SIG|          2|            1|          3|   N|                Y|\n",
            "|R12UBZT87UX3AP|          5|            2|          2|   N|                Y|\n",
            "| R5KCRE927NYMU|          2|            0|          0|   N|                N|\n",
            "| RT12RQFU0V2AX|          5|            1|          1|   N|                Y|\n",
            "|R2K0YQPV5W2SJ1|          4|            2|          2|   N|                Y|\n",
            "|R104MY31OKNGXH|          5|            0|          0|   N|                Y|\n",
            "+--------------+-----------+-------------+-----------+----+-----------------+\n",
            "only showing top 20 rows\n",
            "\n"
          ],
          "name": "stdout"
        }
      ]
    },
    {
      "cell_type": "code",
      "metadata": {
        "id": "b3D59PVLfUch",
        "outputId": "727d230c-c294-459a-d4f3-e389c246bb3f",
        "colab": {
          "base_uri": "https://localhost:8080/"
        }
      },
      "source": [
        "# Get records with more than 20 votes\n",
        "vine_votes_df = vine_df.filter(vine_df[\"total_votes\"] >= 20)\n",
        "vine_votes_df.show()"
      ],
      "execution_count": 8,
      "outputs": [
        {
          "output_type": "stream",
          "text": [
            "+--------------+-----------+-------------+-----------+----+-----------------+\n",
            "|     review_id|star_rating|helpful_votes|total_votes|vine|verified_purchase|\n",
            "+--------------+-----------+-------------+-----------+----+-----------------+\n",
            "| RBEMQ29WJBHYG|          5|          164|        168|   N|                Y|\n",
            "|R2JK5Y8D5MXAGP|          1|            5|        121|   N|                Y|\n",
            "|R13W3EMIUV120L|          4|          288|        294|   N|                Y|\n",
            "|R30TJ8POYNVCRE|          5|           15|         21|   N|                N|\n",
            "|R1H5Y9Z2DHRNVO|          1|            4|         95|   N|                Y|\n",
            "|R1LK03P7BCJEJD|          1|           31|         35|   N|                Y|\n",
            "| RBXUICKGHL685|          1|           48|         52|   N|                N|\n",
            "|R2E16WLZKP78GO|          5|           19|         21|   N|                Y|\n",
            "|R1EN4PGQIFSENW|          5|           27|         28|   N|                Y|\n",
            "| RXZWQU66AHIYG|          5|           24|         25|   N|                Y|\n",
            "|R2IXCZCSUKH8FB|          3|           78|         82|   N|                Y|\n",
            "|R25RB38U9LL8OE|          5|           24|         29|   N|                Y|\n",
            "|R1Q0XK7VKU3EKX|          1|            7|        130|   N|                Y|\n",
            "| RSHPPH6BRXYRS|          2|           42|         48|   N|                N|\n",
            "|R39HYCYEWFZP3B|          5|           36|         36|   N|                N|\n",
            "|R2C68DIKTG0M7W|          5|           18|         20|   N|                Y|\n",
            "|R2I6O4S2CZK8WQ|          1|          175|        181|   N|                Y|\n",
            "|R1EPU8R4MVRIQ7|          4|           21|         22|   N|                Y|\n",
            "| RN55T65W485LS|          1|            5|        222|   N|                N|\n",
            "|R1AL1OVEHNX5JC|          5|           19|         22|   N|                Y|\n",
            "+--------------+-----------+-------------+-----------+----+-----------------+\n",
            "only showing top 20 rows\n",
            "\n"
          ],
          "name": "stdout"
        }
      ]
    },
    {
      "cell_type": "code",
      "metadata": {
        "id": "dAOj6mdFgN1e",
        "outputId": "a8617ef5-a9e2-48ad-cf71-c36c1f8c289f",
        "colab": {
          "base_uri": "https://localhost:8080/"
        }
      },
      "source": [
        "# Get records with at least 50% helpful votes\n",
        "vine_helpful_votes_df = vine_votes_df.filter((vine_votes_df['helpful_votes'])/vine_votes_df['total_votes'] >= .5)\n",
        "vine_helpful_votes_df.show()"
      ],
      "execution_count": 10,
      "outputs": [
        {
          "output_type": "stream",
          "text": [
            "+--------------+-----------+-------------+-----------+----+-----------------+\n",
            "|     review_id|star_rating|helpful_votes|total_votes|vine|verified_purchase|\n",
            "+--------------+-----------+-------------+-----------+----+-----------------+\n",
            "| RBEMQ29WJBHYG|          5|          164|        168|   N|                Y|\n",
            "|R13W3EMIUV120L|          4|          288|        294|   N|                Y|\n",
            "|R30TJ8POYNVCRE|          5|           15|         21|   N|                N|\n",
            "|R1LK03P7BCJEJD|          1|           31|         35|   N|                Y|\n",
            "| RBXUICKGHL685|          1|           48|         52|   N|                N|\n",
            "|R2E16WLZKP78GO|          5|           19|         21|   N|                Y|\n",
            "|R1EN4PGQIFSENW|          5|           27|         28|   N|                Y|\n",
            "| RXZWQU66AHIYG|          5|           24|         25|   N|                Y|\n",
            "|R2IXCZCSUKH8FB|          3|           78|         82|   N|                Y|\n",
            "|R25RB38U9LL8OE|          5|           24|         29|   N|                Y|\n",
            "| RSHPPH6BRXYRS|          2|           42|         48|   N|                N|\n",
            "|R39HYCYEWFZP3B|          5|           36|         36|   N|                N|\n",
            "|R2C68DIKTG0M7W|          5|           18|         20|   N|                Y|\n",
            "|R2I6O4S2CZK8WQ|          1|          175|        181|   N|                Y|\n",
            "|R1EPU8R4MVRIQ7|          4|           21|         22|   N|                Y|\n",
            "|R1AL1OVEHNX5JC|          5|           19|         22|   N|                Y|\n",
            "| RVE1FMV48N1ZD|          5|           37|         41|   N|                N|\n",
            "| R6SR9BXDPIYMZ|          5|           51|         57|   N|                Y|\n",
            "|R1JQPDB1WJ4CKV|          3|           25|         26|   N|                N|\n",
            "|R3L7LS0NW1L6PQ|          5|           97|        101|   N|                Y|\n",
            "+--------------+-----------+-------------+-----------+----+-----------------+\n",
            "only showing top 20 rows\n",
            "\n"
          ],
          "name": "stdout"
        }
      ]
    },
    {
      "cell_type": "code",
      "metadata": {
        "id": "8gUzD4znw6YF",
        "outputId": "7cce546a-8b80-421c-b786-5c469fcbb62d",
        "colab": {
          "base_uri": "https://localhost:8080/"
        }
      },
      "source": [
        "# Get total number of helpful reviews\n",
        "vine_helpful_votes_df.count()"
      ],
      "execution_count": 31,
      "outputs": [
        {
          "output_type": "execute_result",
          "data": {
            "text/plain": [
              "1068"
            ]
          },
          "metadata": {
            "tags": []
          },
          "execution_count": 31
        }
      ]
    },
    {
      "cell_type": "code",
      "metadata": {
        "id": "DYKja5LlhxfX",
        "outputId": "e4f35693-f165-46b5-8a98-5691a9541b2f",
        "colab": {
          "base_uri": "https://localhost:8080/"
        }
      },
      "source": [
        "# Get helpful paid reviews\n",
        "helpful_paid_df = vine_helpful_votes_df.filter(vine_helpful_votes_df[\"vine\"] == 'Y')\n",
        "helpful_paid_df.show()"
      ],
      "execution_count": 14,
      "outputs": [
        {
          "output_type": "stream",
          "text": [
            "+--------------+-----------+-------------+-----------+----+-----------------+\n",
            "|     review_id|star_rating|helpful_votes|total_votes|vine|verified_purchase|\n",
            "+--------------+-----------+-------------+-----------+----+-----------------+\n",
            "|R3BOQTLUU3Y4L8|          4|           42|         55|   Y|                N|\n",
            "| RWF03LXVXC22A|          3|          396|        445|   Y|                N|\n",
            "| REPU28WG1VZUE|          5|          242|        281|   Y|                N|\n",
            "|R1D6REC9HPJVQY|          4|           31|         41|   Y|                N|\n",
            "+--------------+-----------+-------------+-----------+----+-----------------+\n",
            "\n"
          ],
          "name": "stdout"
        }
      ]
    },
    {
      "cell_type": "code",
      "metadata": {
        "id": "COqmIPpdjAp5",
        "outputId": "c81f38f2-3936-445b-8927-1f43efbb50b8",
        "colab": {
          "base_uri": "https://localhost:8080/"
        }
      },
      "source": [
        "# Get helpful unpaid reviews\n",
        "helpful_unpaid_df = vine_helpful_votes_df.filter(vine_helpful_votes_df[\"vine\"] == 'N')\n",
        "helpful_unpaid_df.show()"
      ],
      "execution_count": 15,
      "outputs": [
        {
          "output_type": "stream",
          "text": [
            "+--------------+-----------+-------------+-----------+----+-----------------+\n",
            "|     review_id|star_rating|helpful_votes|total_votes|vine|verified_purchase|\n",
            "+--------------+-----------+-------------+-----------+----+-----------------+\n",
            "| RBEMQ29WJBHYG|          5|          164|        168|   N|                Y|\n",
            "|R13W3EMIUV120L|          4|          288|        294|   N|                Y|\n",
            "|R30TJ8POYNVCRE|          5|           15|         21|   N|                N|\n",
            "|R1LK03P7BCJEJD|          1|           31|         35|   N|                Y|\n",
            "| RBXUICKGHL685|          1|           48|         52|   N|                N|\n",
            "|R2E16WLZKP78GO|          5|           19|         21|   N|                Y|\n",
            "|R1EN4PGQIFSENW|          5|           27|         28|   N|                Y|\n",
            "| RXZWQU66AHIYG|          5|           24|         25|   N|                Y|\n",
            "|R2IXCZCSUKH8FB|          3|           78|         82|   N|                Y|\n",
            "|R25RB38U9LL8OE|          5|           24|         29|   N|                Y|\n",
            "| RSHPPH6BRXYRS|          2|           42|         48|   N|                N|\n",
            "|R39HYCYEWFZP3B|          5|           36|         36|   N|                N|\n",
            "|R2C68DIKTG0M7W|          5|           18|         20|   N|                Y|\n",
            "|R2I6O4S2CZK8WQ|          1|          175|        181|   N|                Y|\n",
            "|R1EPU8R4MVRIQ7|          4|           21|         22|   N|                Y|\n",
            "|R1AL1OVEHNX5JC|          5|           19|         22|   N|                Y|\n",
            "| RVE1FMV48N1ZD|          5|           37|         41|   N|                N|\n",
            "| R6SR9BXDPIYMZ|          5|           51|         57|   N|                Y|\n",
            "|R1JQPDB1WJ4CKV|          3|           25|         26|   N|                N|\n",
            "|R3L7LS0NW1L6PQ|          5|           97|        101|   N|                Y|\n",
            "+--------------+-----------+-------------+-----------+----+-----------------+\n",
            "only showing top 20 rows\n",
            "\n"
          ],
          "name": "stdout"
        }
      ]
    },
    {
      "cell_type": "code",
      "metadata": {
        "id": "yo0fmYFkkLME",
        "outputId": "f1ae1bc4-6f9a-40f4-fe3b-53c0434a1060",
        "colab": {
          "base_uri": "https://localhost:8080/"
        }
      },
      "source": [
        "# Get total number of reviews\n",
        "total_reviews = df.count()\n",
        "total_reviews"
      ],
      "execution_count": 19,
      "outputs": [
        {
          "output_type": "execute_result",
          "data": {
            "text/plain": [
              "104975"
            ]
          },
          "metadata": {
            "tags": []
          },
          "execution_count": 19
        }
      ]
    },
    {
      "cell_type": "code",
      "metadata": {
        "id": "lKH23w3nnA8n",
        "outputId": "8f598776-56d1-487c-cb41-e8dcdd8319ee",
        "colab": {
          "base_uri": "https://localhost:8080/"
        }
      },
      "source": [
        "# Get paid reviews\n",
        "paid_reviews = df.filter(df[\"vine\"] == 'Y').count()\n",
        "paid_reviews"
      ],
      "execution_count": 23,
      "outputs": [
        {
          "output_type": "execute_result",
          "data": {
            "text/plain": [
              "18"
            ]
          },
          "metadata": {
            "tags": []
          },
          "execution_count": 23
        }
      ]
    },
    {
      "cell_type": "code",
      "metadata": {
        "id": "niKEiMu8lXXM",
        "outputId": "4c2a3a69-760a-49e1-ea2a-a07c346e818f",
        "colab": {
          "base_uri": "https://localhost:8080/"
        }
      },
      "source": [
        "# Get five star reviews\n",
        "five_star_reviews = df.filter(df[\"star_rating\"] == 5).count()\n",
        "five_star_reviews"
      ],
      "execution_count": 20,
      "outputs": [
        {
          "output_type": "execute_result",
          "data": {
            "text/plain": [
              "52255"
            ]
          },
          "metadata": {
            "tags": []
          },
          "execution_count": 20
        }
      ]
    },
    {
      "cell_type": "code",
      "metadata": {
        "id": "kF8CItu5m0r9",
        "outputId": "df3ae0bc-6b8d-48f8-cbb3-6d4b8ec0e387",
        "colab": {
          "base_uri": "https://localhost:8080/"
        }
      },
      "source": [
        "# Get paid five star reviews\n",
        "paid_five_star_reviews = df.filter((df[\"vine\"] == 'Y') & (df[\"star_rating\"] == 5)).count()\n",
        "paid_five_star_reviews"
      ],
      "execution_count": 27,
      "outputs": [
        {
          "output_type": "execute_result",
          "data": {
            "text/plain": [
              "6"
            ]
          },
          "metadata": {
            "tags": []
          },
          "execution_count": 27
        }
      ]
    },
    {
      "cell_type": "code",
      "metadata": {
        "id": "7vc7NKi8oNEz",
        "outputId": "776e5d34-1f4b-49d9-ca5b-acc7b2c8b6a0",
        "colab": {
          "base_uri": "https://localhost:8080/"
        }
      },
      "source": [
        "# Get overall percent of five star reviews\n",
        "percent_five_star_reviews = five_star_reviews/total_reviews\n",
        "percent_five_star_reviews"
      ],
      "execution_count": 28,
      "outputs": [
        {
          "output_type": "execute_result",
          "data": {
            "text/plain": [
              "0.49778518694927365"
            ]
          },
          "metadata": {
            "tags": []
          },
          "execution_count": 28
        }
      ]
    },
    {
      "cell_type": "code",
      "metadata": {
        "id": "j08862KdoyUk",
        "outputId": "8aeb9e6f-e94c-4062-c316-b7553db5a9cd",
        "colab": {
          "base_uri": "https://localhost:8080/"
        }
      },
      "source": [
        "# Get percent of five star paid reviews\n",
        "percent_paid_five_star_reviews = paid_five_star_reviews / paid_reviews\n",
        "percent_paid_five_star_reviews"
      ],
      "execution_count": 29,
      "outputs": [
        {
          "output_type": "execute_result",
          "data": {
            "text/plain": [
              "0.3333333333333333"
            ]
          },
          "metadata": {
            "tags": []
          },
          "execution_count": 29
        }
      ]
    },
    {
      "cell_type": "code",
      "metadata": {
        "id": "Zwgb3TYipN4L"
      },
      "source": [
        ""
      ],
      "execution_count": null,
      "outputs": []
    }
  ]
}